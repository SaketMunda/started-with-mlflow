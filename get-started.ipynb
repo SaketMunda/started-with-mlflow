{
 "cells": [
  {
   "cell_type": "markdown",
   "metadata": {},
   "source": [
    "# MLFlow Tracker"
   ]
  },
  {
   "cell_type": "code",
   "execution_count": 1,
   "metadata": {},
   "outputs": [],
   "source": [
    "# import the mlflow\n",
    "import mlflow"
   ]
  },
  {
   "cell_type": "markdown",
   "metadata": {},
   "source": [
    "MLFlow Tracker is basically used to track machine learning experiments, \n",
    "\n",
    "so first we should mention the URL where we want to track the whole experiments variables using `set_tracking_uri` "
   ]
  },
  {
   "cell_type": "code",
   "execution_count": 3,
   "metadata": {},
   "outputs": [],
   "source": [
    "mlflow.set_tracking_uri(\"http://127.0.0.1:5000\")"
   ]
  },
  {
   "cell_type": "markdown",
   "metadata": {},
   "source": [
    "Next, we have to name our experiment by using `set_experiment` and pass the relevant name of the experiment"
   ]
  },
  {
   "cell_type": "code",
   "execution_count": 4,
   "metadata": {},
   "outputs": [
    {
     "name": "stderr",
     "output_type": "stream",
     "text": [
      "2024/10/24 11:04:56 INFO mlflow.tracking.fluent: Experiment with name 'Check localhost connection' does not exist. Creating a new experiment.\n",
      "2024/10/24 11:04:56 INFO mlflow.tracking._tracking_service.client: 🏃 View run glamorous-lynx-115 at: http://127.0.0.1:5000/#/experiments/926505264982727344/runs/ff56a33ed2cc45619553c888bcde16c1.\n",
      "2024/10/24 11:04:56 INFO mlflow.tracking._tracking_service.client: 🧪 View experiment at: http://127.0.0.1:5000/#/experiments/926505264982727344.\n"
     ]
    }
   ],
   "source": [
    "mlflow.set_experiment(experiment_name=\"Check localhost connection\")\n",
    "\n",
    "# to check whether any parameters are been tracked in this experiment, we can log parameters and it's value\n",
    "\n",
    "with mlflow.start_run():\n",
    "    mlflow.log_metric(\"Test\", 1)\n",
    "    mlflow.log_metric(\"Saket\", 2)"
   ]
  },
  {
   "cell_type": "code",
   "execution_count": null,
   "metadata": {},
   "outputs": [],
   "source": []
  }
 ],
 "metadata": {
  "kernelspec": {
   "display_name": "Python 3",
   "language": "python",
   "name": "python3"
  },
  "language_info": {
   "codemirror_mode": {
    "name": "ipython",
    "version": 3
   },
   "file_extension": ".py",
   "mimetype": "text/x-python",
   "name": "python",
   "nbconvert_exporter": "python",
   "pygments_lexer": "ipython3",
   "version": "3.12.0"
  }
 },
 "nbformat": 4,
 "nbformat_minor": 2
}
